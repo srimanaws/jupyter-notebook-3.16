{
 "cells": [
  {
   "cell_type": "code",
   "execution_count": 2,
   "id": "ef1d1fee-e4d6-422f-8b13-5ffce595761e",
   "metadata": {},
   "outputs": [
    {
     "name": "stdin",
     "output_type": "stream",
     "text": [
      "Enter number 1:  9\n",
      "Enter number 2:  5\n",
      "Enter number 3:  4\n",
      "Enter number 4:  7\n",
      "Enter number 5:  6\n",
      "Enter number 6:  3\n",
      "Enter number 7:  8\n",
      "Enter number 8:  1\n",
      "Enter number 9:  6\n",
      "Enter number 10:  7\n"
     ]
    },
    {
     "name": "stdout",
     "output_type": "stream",
     "text": [
      "The largest value is 9.0\n",
      "The second largest value is 8.0\n"
     ]
    }
   ],
   "source": [
    "#Exercise 3.16 by sriman\n",
    "# Initialize variables to keep track of the largest and second-largest values\n",
    "largest = float('-inf')  # Smallest possible value initially\n",
    "second_largest = float('-inf')  # Smallest possible value initially\n",
    "\n",
    "# Loop to get 10 numbers from the user\n",
    "for i in range(10):\n",
    "    # Prompt user to enter a number\n",
    "    number = float(input(f'Enter number {i + 1}: '))\n",
    "    \n",
    "    # Check if the current number is greater than the largest value found so far\n",
    "    if number > largest:\n",
    "        # Update second largest to the previous largest\n",
    "        second_largest = largest\n",
    "        # Update largest to the current number\n",
    "        largest = number\n",
    "    # Check if the current number is greater than the second largest value but less than the largest\n",
    "    elif number > second_largest and number != largest:\n",
    "        # Update second largest to the current number\n",
    "        second_largest = number\n",
    "\n",
    "# Display the results\n",
    "if second_largest == float('-inf'):\n",
    "    # If second_largest hasn't been updated, it means all numbers might be the same or less than two distinct values were entered\n",
    "    print('Not enough distinct values to determine the two largest numbers.')\n",
    "else:\n",
    "    print(f'The largest value is {largest}')\n",
    "    print(f'The second largest value is {second_largest}')\n"
   ]
  },
  {
   "cell_type": "code",
   "execution_count": null,
   "id": "544efa54-2eb3-4760-b463-49b5f0d6149e",
   "metadata": {},
   "outputs": [],
   "source": []
  }
 ],
 "metadata": {
  "kernelspec": {
   "display_name": "Python 3 (ipykernel)",
   "language": "python",
   "name": "python3"
  },
  "language_info": {
   "codemirror_mode": {
    "name": "ipython",
    "version": 3
   },
   "file_extension": ".py",
   "mimetype": "text/x-python",
   "name": "python",
   "nbconvert_exporter": "python",
   "pygments_lexer": "ipython3",
   "version": "3.12.4"
  }
 },
 "nbformat": 4,
 "nbformat_minor": 5
}
